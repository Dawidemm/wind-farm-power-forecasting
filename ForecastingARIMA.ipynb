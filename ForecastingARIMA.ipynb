{
 "cells": [
  {
   "cell_type": "code",
   "execution_count": 57,
   "metadata": {},
   "outputs": [],
   "source": [
    "import pandas as pd\n",
    "import numpy as np\n",
    "import matplotlib.pyplot as plt\n",
    "from matplotlib.pylab import rcParams\n",
    "from statsmodels.tsa.arima_model import ARIMA\n",
    "from statsmodels.tsa.seasonal import seasonal_decompose\n",
    "\n",
    "rcParams['figure.figsize'] = 10, 6"
   ]
  },
  {
   "cell_type": "code",
   "execution_count": 58,
   "metadata": {},
   "outputs": [
    {
     "name": "stdout",
     "output_type": "stream",
     "text": [
      "                       Total Average Power [W]\n",
      "Time - y/m/d/h Format                         \n",
      "2010-02-27 01:00:00                        0.0\n",
      "2010-02-27 02:00:00                        0.0\n",
      "2010-02-27 03:00:00                        0.0\n",
      "2010-02-27 04:00:00                        0.0\n",
      "2010-02-27 05:00:00                        0.0\n",
      "...                                        ...\n",
      "2011-03-23 20:00:00                 45736500.0\n",
      "2011-03-23 21:00:00                 60836800.0\n",
      "2011-03-23 22:00:00                 76372700.0\n",
      "2011-03-23 23:00:00                 83777650.0\n",
      "2011-03-24 00:00:00                 77824650.0\n",
      "\n",
      "[9360 rows x 1 columns]\n"
     ]
    }
   ],
   "source": [
    "df = pd.read_csv('dataset.csv')\n",
    "df = df.drop(['Time - Unix Format', 'Temperature [K]', 'Dew Point [K]', 'Pressure [hPa]', 'Humidity [%]', 'Wind Speed [m/s]',\n",
    "                'Wind Degree [°]', 'Cloudiness [%]'], axis=1)\n",
    "\n",
    "df['Time - y/m/d/h Format'] = pd.to_datetime(df['Time - y/m/d/h Format'], infer_datetime_format=True)\n",
    "\n",
    "df = df.set_index(['Time - y/m/d/h Format'])\n",
    "print(df)"
   ]
  }
 ],
 "metadata": {
  "kernelspec": {
   "display_name": "Python 3.9.1 64-bit",
   "language": "python",
   "name": "python3"
  },
  "language_info": {
   "codemirror_mode": {
    "name": "ipython",
    "version": 3
   },
   "file_extension": ".py",
   "mimetype": "text/x-python",
   "name": "python",
   "nbconvert_exporter": "python",
   "pygments_lexer": "ipython3",
   "version": "3.9.1"
  },
  "orig_nbformat": 4,
  "vscode": {
   "interpreter": {
    "hash": "045a44bc669b39289b41f0be7ee69df9c91440b1509af71ebc0d4ca600186c5e"
   }
  }
 },
 "nbformat": 4,
 "nbformat_minor": 2
}
