{
 "cells": [
  {
   "cell_type": "code",
   "execution_count": 1,
   "metadata": {},
   "outputs": [],
   "source": [
    "import pandas as pd\n",
    "import numpy as np\n",
    "import tensorflow as tf\n",
    "from keras.models import load_model\n",
    "from sklearn.metrics import r2_score\n",
    "from PrepareDataset import PrepareDataset, PrepareDatasetTimeDistributed\n",
    "\n",
    "import matplotlib.pyplot as plt\n",
    "import seaborn as sns"
   ]
  },
  {
   "cell_type": "code",
   "execution_count": 2,
   "metadata": {},
   "outputs": [],
   "source": [
    "data = pd.read_csv('dataset/dataset.csv', header=0)"
   ]
  },
  {
   "cell_type": "code",
   "execution_count": 3,
   "metadata": {},
   "outputs": [],
   "source": [
    "dataset = PrepareDataset(dataset=data)\n",
    "dataset = dataset.early_preparation()\n",
    "dataset = dataset.set_rows_to_zeros()\n",
    "dataset = dataset.split_power()\n",
    "dataset = dataset.standard_scaled_dataset()\n",
    "\n",
    "test_dataset = dataset.test()"
   ]
  },
  {
   "cell_type": "code",
   "execution_count": 4,
   "metadata": {},
   "outputs": [],
   "source": [
    "time_distributed_subseq2_dataset = PrepareDatasetTimeDistributed(dataset=data, subsequences=2)\n",
    "time_distributed_subseq2_dataset = time_distributed_subseq2_dataset.early_preparation()\n",
    "time_distributed_subseq2_dataset = time_distributed_subseq2_dataset.set_rows_to_zeros()\n",
    "time_distributed_subseq2_dataset = time_distributed_subseq2_dataset.split_power()\n",
    "time_distributed_subseq2_dataset = time_distributed_subseq2_dataset.standard_scaled_dataset()\n",
    "\n",
    "time_distributed_subseq2_test_dataset = time_distributed_subseq2_dataset.test()"
   ]
  },
  {
   "cell_type": "code",
   "execution_count": 5,
   "metadata": {},
   "outputs": [],
   "source": [
    "time_distributed_subseq3_dataset = PrepareDatasetTimeDistributed(dataset=data, subsequences=3)\n",
    "time_distributed_subseq3_dataset = time_distributed_subseq3_dataset.early_preparation()\n",
    "time_distributed_subseq3_dataset = time_distributed_subseq3_dataset.set_rows_to_zeros()\n",
    "time_distributed_subseq3_dataset = time_distributed_subseq3_dataset.split_power()\n",
    "time_distributed_subseq3_dataset = time_distributed_subseq3_dataset.standard_scaled_dataset()\n",
    "\n",
    "time_distributed_subseq3_test_dataset = time_distributed_subseq3_dataset.test()"
   ]
  },
  {
   "attachments": {},
   "cell_type": "markdown",
   "metadata": {},
   "source": [
    "CNN Model"
   ]
  },
  {
   "cell_type": "code",
   "execution_count": 6,
   "metadata": {},
   "outputs": [],
   "source": [
    "cnn_model = load_model('CNNModel.h5')"
   ]
  },
  {
   "cell_type": "code",
   "execution_count": 7,
   "metadata": {},
   "outputs": [],
   "source": [
    "cnn_model_predictions = cnn_model.predict(test_dataset[0], verbose=0)[:,0]"
   ]
  },
  {
   "cell_type": "code",
   "execution_count": 8,
   "metadata": {},
   "outputs": [],
   "source": [
    "cnn_model_r2_score = round(r2_score(test_dataset[1], cnn_model_predictions), 3)\n",
    "cnn_model_r_score = round(np.sqrt(r2_score(test_dataset[1], cnn_model_predictions)), 3)"
   ]
  },
  {
   "attachments": {},
   "cell_type": "markdown",
   "metadata": {},
   "source": [
    "Simple RNN Model"
   ]
  },
  {
   "cell_type": "code",
   "execution_count": 9,
   "metadata": {},
   "outputs": [],
   "source": [
    "simple_rnn_model = load_model('SimpleRNNModel.h5')"
   ]
  },
  {
   "cell_type": "code",
   "execution_count": 10,
   "metadata": {},
   "outputs": [],
   "source": [
    "simple_rnn_model_predictions = simple_rnn_model.predict(test_dataset[0], verbose=0)[:,0]"
   ]
  },
  {
   "cell_type": "code",
   "execution_count": 11,
   "metadata": {},
   "outputs": [],
   "source": [
    "simple_rnn_model_r2_score = round(r2_score(test_dataset[1], simple_rnn_model_predictions), 3)\n",
    "simple_rnn_model_r_score = round(np.sqrt(r2_score(test_dataset[1], simple_rnn_model_predictions)), 3)"
   ]
  },
  {
   "attachments": {},
   "cell_type": "markdown",
   "metadata": {},
   "source": [
    "LSTM Model"
   ]
  },
  {
   "cell_type": "code",
   "execution_count": 12,
   "metadata": {},
   "outputs": [],
   "source": [
    "lstm_model = load_model('LSTMModel.h5')"
   ]
  },
  {
   "cell_type": "code",
   "execution_count": 13,
   "metadata": {},
   "outputs": [],
   "source": [
    "lstm_model_predictions = lstm_model.predict(test_dataset[0], verbose=0)[:,0]"
   ]
  },
  {
   "cell_type": "code",
   "execution_count": 14,
   "metadata": {},
   "outputs": [],
   "source": [
    "lstm_model_r2_score = round(r2_score(test_dataset[1], lstm_model_predictions), 3)\n",
    "lstm_model_r_score = round(np.sqrt(r2_score(test_dataset[1], lstm_model_predictions)), 3)"
   ]
  },
  {
   "attachments": {},
   "cell_type": "markdown",
   "metadata": {},
   "source": [
    "GRU Model"
   ]
  },
  {
   "cell_type": "code",
   "execution_count": 15,
   "metadata": {},
   "outputs": [],
   "source": [
    "gru_model = load_model('GRUModel.h5')"
   ]
  },
  {
   "cell_type": "code",
   "execution_count": 16,
   "metadata": {},
   "outputs": [],
   "source": [
    "gru_model_predictions = gru_model.predict(test_dataset[0], verbose=0)[:,0]"
   ]
  },
  {
   "cell_type": "code",
   "execution_count": 17,
   "metadata": {},
   "outputs": [],
   "source": [
    "gru_model_r2_score = round(r2_score(test_dataset[1], gru_model_predictions), 3)\n",
    "gru_model_r_score = round(np.sqrt(r2_score(test_dataset[1], gru_model_predictions)), 3)"
   ]
  },
  {
   "attachments": {},
   "cell_type": "markdown",
   "metadata": {},
   "source": [
    "CNN-LSTM Model with 2 subsequences"
   ]
  },
  {
   "cell_type": "code",
   "execution_count": 18,
   "metadata": {},
   "outputs": [],
   "source": [
    "cnn_lstm_subseq2_model = load_model('CNNLSTMModelsubseq2.h5')"
   ]
  },
  {
   "cell_type": "code",
   "execution_count": 19,
   "metadata": {},
   "outputs": [],
   "source": [
    "cnn_lstm_subseq2_model_predictions = cnn_lstm_subseq2_model.predict(time_distributed_subseq2_test_dataset[0], verbose=0)[:,0]"
   ]
  },
  {
   "cell_type": "code",
   "execution_count": 20,
   "metadata": {},
   "outputs": [],
   "source": [
    "cnn_lstm_subseq2_model_r2_score = round(r2_score(time_distributed_subseq2_test_dataset[2], cnn_lstm_subseq2_model_predictions), 3)\n",
    "cnn_lstm_subseq2_model_r_score = round(np.sqrt(r2_score(time_distributed_subseq2_test_dataset[2], cnn_lstm_subseq2_model_predictions)), 3)"
   ]
  },
  {
   "attachments": {},
   "cell_type": "markdown",
   "metadata": {},
   "source": [
    "CNN-LSTM Model with 3 subsequences"
   ]
  },
  {
   "cell_type": "code",
   "execution_count": 21,
   "metadata": {},
   "outputs": [],
   "source": [
    "cnn_lstm_subseq3_model = load_model('CNNLSTMModelsubseq3.h5')"
   ]
  },
  {
   "cell_type": "code",
   "execution_count": 22,
   "metadata": {},
   "outputs": [],
   "source": [
    "cnn_lstm_subseq3_model_predictions = cnn_lstm_subseq3_model.predict(time_distributed_subseq3_test_dataset[0], verbose=0)[:,0]"
   ]
  },
  {
   "cell_type": "code",
   "execution_count": 23,
   "metadata": {},
   "outputs": [],
   "source": [
    "cnn_lstm_subseq3_model_r2_score = round(r2_score(time_distributed_subseq3_test_dataset[2], cnn_lstm_subseq3_model_predictions), 3)\n",
    "cnn_lstm_subseq3_model_r_score = round(np.sqrt(r2_score(time_distributed_subseq3_test_dataset[2], cnn_lstm_subseq3_model_predictions)), 3)"
   ]
  },
  {
   "cell_type": "code",
   "execution_count": 24,
   "metadata": {},
   "outputs": [],
   "source": [
    "models_metrics = {'CNN': [cnn_model_r2_score, cnn_model_r_score],\n",
    "                    'Simple RNN': [simple_rnn_model_r2_score, simple_rnn_model_r_score],\n",
    "                    'LSTM': [lstm_model_r2_score, lstm_model_r_score],\n",
    "                    'GRU': [gru_model_r2_score, gru_model_r_score],\n",
    "                    'CNN-LSTM (2)': [cnn_lstm_subseq2_model_r2_score, cnn_lstm_subseq2_model_r_score],\n",
    "                    'CNN-LSTM (3)': [cnn_lstm_subseq3_model_r2_score, cnn_lstm_subseq3_model_r_score]}\n",
    "\n",
    "models_metrics = sorted(models_metrics.items(), key=lambda item: item[1][0])\n",
    "models_metrics = dict(models_metrics)\n",
    "\n",
    "colors = ['palegreen', 'lightgreen', 'lime', 'limegreen', 'forestgreen', 'darkgreen']"
   ]
  },
  {
   "cell_type": "code",
   "execution_count": 25,
   "metadata": {},
   "outputs": [],
   "source": [
    "r2_scores = [metrics[0] for metrics in models_metrics.values()]\n",
    "r_scores = [metrics[1] for metrics in models_metrics.values()]\n",
    "models = list(models_metrics.keys())"
   ]
  },
  {
   "cell_type": "code",
   "execution_count": 26,
   "metadata": {},
   "outputs": [
    {
     "data": {
      "image/png": "[encoded data removed]",
      "text/plain": [
       "<Figure size 864x432 with 1 Axes>"
      ]
     },
     "metadata": {
      "needs_background": "light"
     },
     "output_type": "display_data"
    }
   ],
   "source": [
    "plt.bar(models, r2_scores, width=0.5, color=colors)\n",
    "\n",
    "for i in range(len(r2_scores)):\n",
    "    plt.text(models[i], r2_scores[i], s=str(r2_scores[i]), horizontalalignment='center', verticalalignment='bottom')\n",
    "\n",
    "fig = plt.gcf()\n",
    "fig = fig.set_size_inches(12,6)\n",
    "plt.ylim([0, 1])\n",
    "plt.title('Porównanie wartości współczynników $ R^2 $')\n",
    "plt.xlabel('Model')\n",
    "plt.ylabel('Wartość wspłóczynnika $ R^2 $')\n",
    "plt.show()"
   ]
  },
  {
   "cell_type": "code",
   "execution_count": 27,
   "metadata": {},
   "outputs": [
    {
     "data": {
      "image/png": "[encoded data removed]",
      "text/plain": [
       "<Figure size 864x432 with 1 Axes>"
      ]
     },
     "metadata": {
      "needs_background": "light"
     },
     "output_type": "display_data"
    }
   ],
   "source": [
    "plt.bar(models, r_scores, width=0.5, color=colors)\n",
    "\n",
    "for i in range(len(r_scores)):\n",
    "    plt.text(models[i], r_scores[i], s=str(r_scores[i]), horizontalalignment='center', verticalalignment='bottom')\n",
    "\n",
    "fig = plt.gcf()\n",
    "fig = fig.set_size_inches(12,6)\n",
    "plt.ylim([0, 1])\n",
    "plt.title('Porównanie wartości współczynników $ R $')\n",
    "plt.xlabel('Model')\n",
    "plt.ylabel('Wartość wspłóczynnika $ R $')\n",
    "plt.show()"
   ]
  }
 ],
 "metadata": {
  "kernelspec": {
   "display_name": "Python 3",
   "language": "python",
   "name": "python3"
  },
  "language_info": {
   "codemirror_mode": {
    "name": "ipython",
    "version": 3
   },
   "file_extension": ".py",
   "mimetype": "text/x-python",
   "name": "python",
   "nbconvert_exporter": "python",
   "pygments_lexer": "ipython3",
   "version": "3.9.1"
  },
  "orig_nbformat": 4,
  "vscode": {
   "interpreter": {
    "hash": "045a44bc669b39289b41f0be7ee69df9c91440b1509af71ebc0d4ca600186c5e"
   }
  }
 },
 "nbformat": 4,
 "nbformat_minor": 2
}
